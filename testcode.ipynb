{
 "metadata": {
  "name": "",
  "signature": "sha256:f67293d4b6bddc8551d1d9ac86bb51f52a6dd03582fe63658a0fa475254a3074"
 },
 "nbformat": 3,
 "nbformat_minor": 0,
 "worksheets": [
  {
   "cells": [
    {
     "cell_type": "code",
     "collapsed": false,
     "input": [
      "from rdkit import Chem\n",
      "from rdkit.Chem import Draw\n",
      "from rdkit.Chem.Draw import IPythonConsole\n",
      "inf = open(\"pains.txt\", \"r\")\n",
      "sub_strct = [ line.rstrip().split(\" \") for line in inf ]\n",
      "\n",
      "smarts = [ line[0] for line in sub_strct]\n",
      "desc = [ line[1] for line in sub_strct]\n",
      "dic = dict(zip(smarts, desc))\n",
      "\n",
      "def pains_filt(mol):\n",
      "    \"\"\"\n",
      "    >>> mol = Chem.MolFromSmiles(\"c1ccccc1N=Nc1ccccc1\")\n",
      "    >>> checkmol = pains_filt( mol )\n",
      "    >>> props = [ prop for prop in checkmol.GetPropNames() ]\n",
      "    >>> props[0]\n",
      "    'azo_A(324)'\n",
      "    \"\"\"\n",
      "\n",
      "    for k,v in dic.items():\n",
      "        subs = Chem.MolFromSmarts( k )\n",
      "        if subs != None:\n",
      "            if mol.HasSubstructMatch( subs ):\n",
      "                mol.SetProp(v,k)\n",
      "    return mol\n",
      "\n",
      "\n",
      "  "
     ],
     "language": "python",
     "metadata": {},
     "outputs": [],
     "prompt_number": 1
    },
    {
     "cell_type": "code",
     "collapsed": false,
     "input": [
      "mol = Chem.MolFromSmiles(\"c1ccccc1N=Nc1ccccc1\")"
     ],
     "language": "python",
     "metadata": {},
     "outputs": [],
     "prompt_number": 2
    },
    {
     "cell_type": "code",
     "collapsed": false,
     "input": [
      "mol"
     ],
     "language": "python",
     "metadata": {},
     "outputs": [
      {
       "metadata": {},
       "output_type": "pyout",
       "png": "[encoded data removed]",
       "prompt_number": 3,
       "text": [
        "<rdkit.Chem.rdchem.Mol at 0x102df6130>"
       ]
      }
     ],
     "prompt_number": 3
    },
    {
     "cell_type": "code",
     "collapsed": false,
     "input": [
      "checkmol = pains_filt( mol )"
     ],
     "language": "python",
     "metadata": {},
     "outputs": [],
     "prompt_number": 4
    },
    {
     "cell_type": "code",
     "collapsed": false,
     "input": [
      "props = [ prop for prop in checkmol.GetPropNames() ]"
     ],
     "language": "python",
     "metadata": {},
     "outputs": [],
     "prompt_number": 5
    },
    {
     "cell_type": "code",
     "collapsed": false,
     "input": [
      "print props"
     ],
     "language": "python",
     "metadata": {},
     "outputs": [
      {
       "output_type": "stream",
       "stream": "stdout",
       "text": [
        "['azo_A(324)']\n"
       ]
      }
     ],
     "prompt_number": 6
    }
   ],
   "metadata": {}
  }
 ]
}